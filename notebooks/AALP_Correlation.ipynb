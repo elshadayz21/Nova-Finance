{
 "cells": [
  {
   "cell_type": "code",
   "execution_count": 27,
   "id": "e86eb095",
   "metadata": {},
   "outputs": [],
   "source": [
    "import pandas as pd # for data manipulation\n",
    "import os # for file path operations\n",
    "import sys # for system-specific parameters and functions\n",
    "import matplotlib.pyplot as plt # for plotting\n",
    "import seaborn as sns # for better aesthetics\n",
    "import numpy as np # for numerical operations\n",
    "import nltk # for text processing"
   ]
  },
  {
   "cell_type": "code",
   "execution_count": 31,
   "id": "a8a47b2b",
   "metadata": {},
   "outputs": [
    {
     "name": "stdout",
     "output_type": "stream",
     "text": [
      "c:\\Users\\elsha\\OneDrive\\Documents\\10Acadamy Assignments\\week-1\\Nova-Finance\n"
     ]
    }
   ],
   "source": [
    "#ensure that Python can import modules from the parent directory of your notebook\n",
    "rpath = os.path.abspath('..')\n",
    "print(rpath)\n",
    "if rpath not in sys.path:\n",
    "    sys.path.insert(0, rpath)\n"
   ]
  },
  {
   "cell_type": "code",
   "execution_count": 40,
   "id": "ab5e7c53",
   "metadata": {},
   "outputs": [
    {
     "name": "stdout",
     "output_type": "stream",
     "text": [
      "['convert_and_align_date.py', 'load_data.py', '__init__.py', '__pycache__']\n"
     ]
    }
   ],
   "source": [
    "os.path.abspath('..')\n",
    "\n",
    "# os.path.abspath('..')\n",
    "print(os.listdir(\"../scripts\"))"
   ]
  },
  {
   "cell_type": "code",
   "execution_count": 5,
   "id": "3eacd770",
   "metadata": {},
   "outputs": [
    {
     "ename": "ModuleNotFoundError",
     "evalue": "No module named 'scripts.load_data'",
     "output_type": "error",
     "traceback": [
      "\u001b[31m---------------------------------------------------------------------------\u001b[39m",
      "\u001b[31mModuleNotFoundError\u001b[39m                       Traceback (most recent call last)",
      "\u001b[36mCell\u001b[39m\u001b[36m \u001b[39m\u001b[32mIn[5]\u001b[39m\u001b[32m, line 1\u001b[39m\n\u001b[32m----> \u001b[39m\u001b[32m1\u001b[39m \u001b[38;5;28;01mfrom\u001b[39;00m\u001b[38;5;250m \u001b[39m\u001b[34;01mscripts\u001b[39;00m\u001b[34;01m.\u001b[39;00m\u001b[34;01mload_data\u001b[39;00m\u001b[38;5;250m \u001b[39m\u001b[38;5;28;01mimport\u001b[39;00m load_data \u001b[38;5;66;03m# import the load_data function from scripts\u001b[39;00m\n\u001b[32m      2\u001b[39m news = \u001b[33m'\u001b[39m\u001b[33m../Data/raw_analyst_ratings.csv\u001b[39m\u001b[33m'\u001b[39m\n\u001b[32m      3\u001b[39m stock = \u001b[33m'\u001b[39m\u001b[33m../Data/AAPL_historical_data.csv\u001b[39m\u001b[33m'\u001b[39m\n",
      "\u001b[31mModuleNotFoundError\u001b[39m: No module named 'scripts.load_data'"
     ]
    }
   ],
   "source": [
    "from scripts.load_data import load_data # import the load_data function from scripts\n",
    "news = '../Data/raw_analyst_ratings.csv'\n",
    "stock = '../Data/AAPL_historical_data.csv'\n",
    "aligned_data = load_data(news, stock)\n",
    "# stock_data = stock_data.rename(columns={'Date': 'date'})"
   ]
  }
 ],
 "metadata": {
  "kernelspec": {
   "display_name": "Python 3",
   "language": "python",
   "name": "python3"
  },
  "language_info": {
   "codemirror_mode": {
    "name": "ipython",
    "version": 3
   },
   "file_extension": ".py",
   "mimetype": "text/x-python",
   "name": "python",
   "nbconvert_exporter": "python",
   "pygments_lexer": "ipython3",
   "version": "3.12.10"
  }
 },
 "nbformat": 4,
 "nbformat_minor": 5
}
